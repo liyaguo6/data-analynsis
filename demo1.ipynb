{
 "cells": [
  {
   "cell_type": "code",
   "execution_count": 10,
   "metadata": {},
   "outputs": [
    {
     "data": {
      "text/plain": [
       "a     8.0\n",
       "b     7.0\n",
       "c   -10.0\n",
       "d     3.0\n",
       "dtype: float64"
      ]
     },
     "execution_count": 10,
     "metadata": {},
     "output_type": "execute_result"
    }
   ],
   "source": [
    "import pandas as pd\n",
    "pd.Series([4,7,-5,3])\n",
    "data=pd.Series([4,7,-5,3],index=['a','b','c','d'])\n",
    "data.index   #获取值数组和索引数组：values属性和index属性\n",
    "f=pd.Series(0, index=['a','b','c','d'])\n",
    "l=data[[\"a\",\"c\"]]\n",
    "\"a\" in data\n",
    "l.add(data,fill_value=0)"
   ]
  },
  {
   "cell_type": "code",
   "execution_count": 24,
   "metadata": {},
   "outputs": [
    {
     "data": {
      "text/plain": [
       "a    33.000000\n",
       "b    36.666667\n",
       "c    32.000000\n",
       "d    45.000000\n",
       "dtype: float64"
      ]
     },
     "execution_count": 24,
     "metadata": {},
     "output_type": "execute_result"
    }
   ],
   "source": [
    "sr1 = pd.Series([12,23,34], index=['c','a','d'])\n",
    "sr2 = pd.Series([11,20,10], index=['d','c','a',])\n",
    "sr1+sr2\n",
    "sr3 = pd.Series([11,20,10,14], index=['d','c','a','b'])\n",
    "sr1+sr3\n",
    "sr=sr1.add(sr3)\n",
    "# sr[sr.notnull()]\n",
    "# sr.dropna()\n",
    "sr.fillna(sr.mean())"
   ]
  },
  {
   "cell_type": "code",
   "execution_count": 28,
   "metadata": {},
   "outputs": [
    {
     "data": {
      "text/plain": [
       "array([[  1.,   2.],\n",
       "       [  2.,   1.],\n",
       "       [  3.,   3.],\n",
       "       [ nan,   4.]])"
      ]
     },
     "execution_count": 28,
     "metadata": {},
     "output_type": "execute_result"
    }
   ],
   "source": [
    "m=pd.DataFrame({'one':pd.Series([1,2,3],index=['a','b','c']), 'two':pd.Series([1,2,3,4],index=['b','a','c','d'])})\n",
    "m.values\n"
   ]
  },
  {
   "cell_type": "code",
   "execution_count": 33,
   "metadata": {},
   "outputs": [
    {
     "data": {
      "text/html": [
       "<div>\n",
       "<style>\n",
       "    .dataframe thead tr:only-child th {\n",
       "        text-align: right;\n",
       "    }\n",
       "\n",
       "    .dataframe thead th {\n",
       "        text-align: left;\n",
       "    }\n",
       "\n",
       "    .dataframe tbody tr th {\n",
       "        vertical-align: top;\n",
       "    }\n",
       "</style>\n",
       "<table border=\"1\" class=\"dataframe\">\n",
       "  <thead>\n",
       "    <tr style=\"text-align: right;\">\n",
       "      <th></th>\n",
       "      <th>SP</th>\n",
       "      <th>DAX</th>\n",
       "      <th>FTSE</th>\n",
       "    </tr>\n",
       "  </thead>\n",
       "  <tbody>\n",
       "    <tr>\n",
       "      <th>0</th>\n",
       "      <td>-0.004679</td>\n",
       "      <td>0.002193</td>\n",
       "      <td>0.003894</td>\n",
       "    </tr>\n",
       "    <tr>\n",
       "      <th>1</th>\n",
       "      <td>0.007787</td>\n",
       "      <td>0.008455</td>\n",
       "      <td>0.012866</td>\n",
       "    </tr>\n",
       "    <tr>\n",
       "      <th>2</th>\n",
       "      <td>-0.030469</td>\n",
       "      <td>-0.017833</td>\n",
       "      <td>-0.028735</td>\n",
       "    </tr>\n",
       "  </tbody>\n",
       "</table>\n",
       "</div>"
      ],
      "text/plain": [
       "         SP       DAX      FTSE\n",
       "0 -0.004679  0.002193  0.003894\n",
       "1  0.007787  0.008455  0.012866\n",
       "2 -0.030469 -0.017833 -0.028735"
      ]
     },
     "execution_count": 33,
     "metadata": {},
     "output_type": "execute_result"
    }
   ],
   "source": [
    "import pandas as pd\n",
    "f = open(r\"C:\\Users\\10755\\Desktop\\数据挖掘数据集.csv\")\n",
    "df = pd.read_csv(f,parse_dates=['date'],index_col='date')\n",
    "df.loc[:,'date':]  #行列索引值\n",
    "df.iloc[0:3,3:6]   #行列索引\n",
    "# type(df.index[0])\n",
    "# df.values.shape\n"
   ]
  },
  {
   "cell_type": "code",
   "execution_count": 60,
   "metadata": {},
   "outputs": [],
   "source": [
    "\n",
    "f = open(r\"C:\\Users\\10755\\Desktop\\test.csv\",\"w\")\n",
    "df.to_csv(f,columns=[\"date\",\"SP\"],index=False)\n",
    "# f.close\n",
    "# df"
   ]
  },
  {
   "cell_type": "code",
   "execution_count": null,
   "metadata": {
    "collapsed": true
   },
   "outputs": [],
   "source": []
  }
 ],
 "metadata": {
  "kernelspec": {
   "display_name": "Python 3",
   "language": "python",
   "name": "python3"
  },
  "language_info": {
   "codemirror_mode": {
    "name": "ipython",
    "version": 3
   },
   "file_extension": ".py",
   "mimetype": "text/x-python",
   "name": "python",
   "nbconvert_exporter": "python",
   "pygments_lexer": "ipython3",
   "version": "3.6.3"
  }
 },
 "nbformat": 4,
 "nbformat_minor": 2
}
