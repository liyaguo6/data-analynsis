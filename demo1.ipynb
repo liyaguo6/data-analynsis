{
 "cells": [
  {
   "cell_type": "code",
   "execution_count": 10,
   "metadata": {},
   "outputs": [
    {
     "data": {
      "text/plain": [
       "a     8.0\n",
       "b     7.0\n",
       "c   -10.0\n",
       "d     3.0\n",
       "dtype: float64"
      ]
     },
     "execution_count": 10,
     "metadata": {},
     "output_type": "execute_result"
    }
   ],
   "source": [
    "import pandas as pd\n",
    "pd.Series([4,7,-5,3])\n",
    "data=pd.Series([4,7,-5,3],index=['a','b','c','d'])\n",
    "data.index   #获取值数组和索引数组：values属性和index属性\n",
    "f=pd.Series(0, index=['a','b','c','d'])\n",
    "l=data[[\"a\",\"c\"]]\n",
    "\"a\" in data\n",
    "l.add(data,fill_value=0)"
   ]
  },
  {
   "cell_type": "code",
   "execution_count": 24,
   "metadata": {},
   "outputs": [
    {
     "data": {
      "text/plain": [
       "a    33.000000\n",
       "b    36.666667\n",
       "c    32.000000\n",
       "d    45.000000\n",
       "dtype: float64"
      ]
     },
     "execution_count": 24,
     "metadata": {},
     "output_type": "execute_result"
    }
   ],
   "source": [
    "sr1 = pd.Series([12,23,34], index=['c','a','d'])\n",
    "sr2 = pd.Series([11,20,10], index=['d','c','a',])\n",
    "sr1+sr2\n",
    "sr3 = pd.Series([11,20,10,14], index=['d','c','a','b'])\n",
    "sr1+sr3\n",
    "sr=sr1.add(sr3)\n",
    "# sr[sr.notnull()]\n",
    "# sr.dropna()\n",
    "sr.fillna(sr.mean())"
   ]
  },
  {
   "cell_type": "code",
   "execution_count": 28,
   "metadata": {},
   "outputs": [
    {
     "data": {
      "text/plain": [
       "array([[  1.,   2.],\n",
       "       [  2.,   1.],\n",
       "       [  3.,   3.],\n",
       "       [ nan,   4.]])"
      ]
     },
     "execution_count": 28,
     "metadata": {},
     "output_type": "execute_result"
    }
   ],
   "source": [
    "m=pd.DataFrame({'one':pd.Series([1,2,3],index=['a','b','c']), 'two':pd.Series([1,2,3,4],index=['b','a','c','d'])})\n",
    "m.values\n"
   ]
  },
  {
   "cell_type": "code",
   "execution_count": null,
   "metadata": {
    "collapsed": true
   },
   "outputs": [],
   "source": []
  }
 ],
 "metadata": {
  "kernelspec": {
   "display_name": "Python 3",
   "language": "python",
   "name": "python3"
  },
  "language_info": {
   "codemirror_mode": {
    "name": "ipython",
    "version": 3
   },
   "file_extension": ".py",
   "mimetype": "text/x-python",
   "name": "python",
   "nbconvert_exporter": "python",
   "pygments_lexer": "ipython3",
   "version": "3.6.3"
  }
 },
 "nbformat": 4,
 "nbformat_minor": 2
}
