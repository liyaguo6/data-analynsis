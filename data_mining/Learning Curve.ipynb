{
 "cells": [
  {
   "cell_type": "code",
   "execution_count": 1,
   "metadata": {},
   "outputs": [
    {
     "name": "stderr",
     "output_type": "stream",
     "text": [
      "D:\\APP\\anaconda\\lib\\site-packages\\sklearn\\cross_validation.py:41: DeprecationWarning: This module was deprecated in version 0.18 in favor of the model_selection module into which all the refactored classes and functions are moved. Also note that the interface of the new CV iterators are different from that of this module. This module will be removed in 0.20.\n",
      "  \"This module will be removed in 0.20.\", DeprecationWarning)\n",
      "D:\\APP\\anaconda\\lib\\site-packages\\sklearn\\learning_curve.py:22: DeprecationWarning: This module was deprecated in version 0.18 in favor of the model_selection module into which all the functions are moved. This module will be removed in 0.20\n",
      "  DeprecationWarning)\n"
     ]
    }
   ],
   "source": [
    "from sklearn.learning_curve import learning_curve #学习曲线模块\n",
    "\n",
    "from sklearn.datasets import load_digits #digits数据集\n",
    "\n",
    "from sklearn.svm import SVC #Support Vector Classifier\n",
    "\n",
    "import matplotlib.pyplot as plt #可视化模块\n",
    "\n",
    "import numpy as np"
   ]
  },
  {
   "cell_type": "code",
   "execution_count": 3,
   "metadata": {},
   "outputs": [
    {
     "data": {
      "text/plain": [
       "(1797, 64)"
      ]
     },
     "execution_count": 3,
     "metadata": {},
     "output_type": "execute_result"
    }
   ],
   "source": [
    "#由学习曲线（Learning Curve）来检视过拟合（Overfitting）的问题\n",
    "digits = load_digits()\n",
    "X = digits.data\n",
    "y = digits.target\n",
    "X.shape"
   ]
  },
  {
   "cell_type": "code",
   "execution_count": 12,
   "metadata": {},
   "outputs": [
    {
     "name": "stdout",
     "output_type": "stream",
     "text": [
      "[ 161  403  806 1209 1612]\n"
     ]
    }
   ],
   "source": [
    "\n",
    "train_sizes, train_score, test_score = learning_curve(\n",
    "\n",
    "    SVC(gamma=0.001), X, y, cv=10, scoring='accuracy',\n",
    "\n",
    "    train_sizes=[0.1, 0.25, 0.5, 0.75, 1])\n",
    "\n",
    "\n",
    "#平均每一轮所得到的平均方差(共5轮，分别为样本10%、25%、50%、75%、100%)\n",
    "\n",
    "train_score_mean = np.mean(train_score, axis=1)\n",
    "\n",
    "test_score_mean = np.mean(test_score, axis=1)\n",
    "print(train_sizes)"
   ]
  },
  {
   "cell_type": "code",
   "execution_count": 13,
   "metadata": {},
   "outputs": [
    {
     "data": {
      "image/png": "[encoded data removed]",
      "text/plain": [
       "<matplotlib.figure.Figure at 0x15c53105710>"
      ]
     },
     "metadata": {},
     "output_type": "display_data"
    }
   ],
   "source": [
    "\n",
    "plt.plot(train_sizes, train_score_mean, 'o-', color=\"r\",\n",
    "\n",
    "         label=\"Training\")\n",
    "\n",
    "plt.plot(train_sizes, test_score_mean, 'o-', color=\"g\",\n",
    "\n",
    "        label=\"Cross-validation\")\n",
    "\n",
    " \n",
    "\n",
    "plt.xlabel(\"Training examples\")\n",
    "\n",
    "plt.ylabel(\"Loss\")\n",
    "\n",
    "plt.legend(loc=\"best\")\n",
    "\n",
    "plt.show()\n"
   ]
  },
  {
   "cell_type": "code",
   "execution_count": null,
   "metadata": {
    "collapsed": true
   },
   "outputs": [],
   "source": []
  }
 ],
 "metadata": {
  "kernelspec": {
   "display_name": "Python 3",
   "language": "python",
   "name": "python3"
  },
  "language_info": {
   "codemirror_mode": {
    "name": "ipython",
    "version": 3
   },
   "file_extension": ".py",
   "mimetype": "text/x-python",
   "name": "python",
   "nbconvert_exporter": "python",
   "pygments_lexer": "ipython3",
   "version": "3.6.3"
  }
 },
 "nbformat": 4,
 "nbformat_minor": 2
}
